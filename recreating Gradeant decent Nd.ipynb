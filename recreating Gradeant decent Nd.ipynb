{
 "cells": [
  {
   "cell_type": "code",
   "execution_count": 203,
   "id": "6c0c6407-6f6a-4fb8-b197-b1c5532776de",
   "metadata": {},
   "outputs": [],
   "source": [
    "x, y = load_diabetes(return_X_y=True)"
   ]
  },
  {
   "cell_type": "code",
   "execution_count": 204,
   "id": "1fb3db9c-398c-4c26-ac54-20af918c7a57",
   "metadata": {},
   "outputs": [],
   "source": [
    "x_train, x_test, y_train, y_test = train_test_split(x, y, test_size=0.2, random_state=2)"
   ]
  },
  {
   "cell_type": "code",
   "execution_count": 205,
   "id": "f96c29b2-b6ce-45ae-bf16-fbc14bb28118",
   "metadata": {},
   "outputs": [],
   "source": [
    "class gdn:\n",
    "    def __init__(self, epoc, lr):\n",
    "        self.epoc = epoc\n",
    "        self.lr = lr\n",
    "\n",
    "    def fit(self, x_train, y_train):\n",
    "        self.intercept_ = 0  # beta 0\n",
    "        self.coef_ = np.ones(x_train.shape[1])\n",
    "        for i in range(self.epoc):\n",
    "            y_hat = np.dot(x_train, self.coef_) + self.intercept_\n",
    "            slop_intercept = -2 * np.mean(y_train - y_hat)\n",
    "            self.intercept_ = self.intercept_ - (self.lr * slop_intercept)\n",
    "\n",
    "            slop_coef = -2 * np.dot((y_train - y_hat), x_train) / x_train.shape[0]\n",
    "            self.coef_ = self.coef_ - (self.lr * slop_coef)\n",
    "\n",
    "    def predict(self, x_test):\n",
    "        return np.dot(x_test, self.coef_) + self.intercept_"
   ]
  },
  {
   "cell_type": "code",
   "execution_count": 227,
   "id": "b2e03990-e7ad-4b4e-9899-975b627492e8",
   "metadata": {},
   "outputs": [],
   "source": [
    "obj = gdn(5000, 0.0999)"
   ]
  },
  {
   "cell_type": "code",
   "execution_count": 228,
   "id": "c4abb7fa-5edd-49f7-bf8a-ea9d705c8323",
   "metadata": {},
   "outputs": [
    {
     "data": {
      "text/plain": [
       "(353,)"
      ]
     },
     "execution_count": 228,
     "metadata": {},
     "output_type": "execute_result"
    }
   ],
   "source": [
    "x_train.shape\n",
    "y_train.shape"
   ]
  },
  {
   "cell_type": "code",
   "execution_count": 229,
   "id": "aca7b445-0e09-4633-ad2e-406c021b6803",
   "metadata": {},
   "outputs": [],
   "source": [
    "obj.fit(x_train, y_train)"
   ]
  },
  {
   "cell_type": "code",
   "execution_count": 230,
   "id": "78f0be08-c2cd-4dd4-a5c8-92a6b91ac3d5",
   "metadata": {},
   "outputs": [],
   "source": [
    "pre = obj.predict(x_test)"
   ]
  },
  {
   "cell_type": "code",
   "execution_count": null,
   "id": "2494dfec-d9af-4c27-9f91-efc74a7f52df",
   "metadata": {},
   "outputs": [],
   "source": []
  },
  {
   "cell_type": "code",
   "execution_count": 231,
   "id": "041d9ca4-acb0-49cf-bbfe-3b9783f3fe5e",
   "metadata": {},
   "outputs": [
    {
     "data": {
      "text/plain": [
       "0.4534586716143849"
      ]
     },
     "execution_count": 231,
     "metadata": {},
     "output_type": "execute_result"
    }
   ],
   "source": [
    "r2_score(y_test, pre)"
   ]
  },
  {
   "cell_type": "code",
   "execution_count": 225,
   "id": "006b9860-eb83-40d7-a484-25f8b86e1c2c",
   "metadata": {},
   "outputs": [],
   "source": [
    "lr = 0\n",
    "r2 = []\n",
    "lr1 =[]\n",
    "for i in range(100):\n",
    "    lr = lr + 0.01\n",
    "    obj = gdn(100, lr)\n",
    "    obj.fit(x_train, y_train)\n",
    "    pre = obj.predict(x_test)\n",
    "    lr1.append(lr)\n",
    "    r2.append(r2_score(y_test, pre))"
   ]
  },
  {
   "cell_type": "code",
   "execution_count": 226,
   "id": "2260cac4-1fd4-430f-9a56-c5337177711c",
   "metadata": {},
   "outputs": [
    {
     "data": {
      "application/javascript": [
       "\n",
       "        if (window._pyforest_update_imports_cell) { window._pyforest_update_imports_cell('import numpy as np\\nfrom sklearn.model_selection import train_test_split\\nimport pandas as pd\\nimport seaborn as sns'); }\n",
       "    "
      ],
      "text/plain": [
       "<IPython.core.display.Javascript object>"
      ]
     },
     "metadata": {},
     "output_type": "display_data"
    },
    {
     "data": {
      "text/plain": [
       "<AxesSubplot:>"
      ]
     },
     "execution_count": 226,
     "metadata": {},
     "output_type": "execute_result"
    },
    {
     "data": {
      "image/png": "[encoded data removed]",
      "text/plain": [
       "<Figure size 640x480 with 1 Axes>"
      ]
     },
     "metadata": {},
     "output_type": "display_data"
    }
   ],
   "source": [
    "sns.lineplot(x= lr1,y=r2)"
   ]
  },
  {
   "cell_type": "code",
   "execution_count": null,
   "id": "53f84e23-6d31-461f-9afc-07f51491ff43",
   "metadata": {},
   "outputs": [],
   "source": []
  }
 ],
 "metadata": {
  "kernelspec": {
   "display_name": "Python 3 (ipykernel)",
   "language": "python",
   "name": "python3"
  },
  "language_info": {
   "codemirror_mode": {
    "name": "ipython",
    "version": 3
   },
   "file_extension": ".py",
   "mimetype": "text/x-python",
   "name": "python",
   "nbconvert_exporter": "python",
   "pygments_lexer": "ipython3",
   "version": "3.9.12"
  }
 },
 "nbformat": 4,
 "nbformat_minor": 5
}
