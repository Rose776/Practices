{
 "cells": [
  {
   "cell_type": "markdown",
   "id": "7b9ae2f4-daa3-497a-9e3d-9d49d6dd6f85",
   "metadata": {},
   "source": [
    "## OOPS concept "
   ]
  },
  {
   "cell_type": "code",
   "execution_count": 27,
   "id": "b10c887f-1f93-47df-8cd4-c969d478c7ac",
   "metadata": {},
   "outputs": [],
   "source": [
    "# Just a New Class\n",
    "class syed_ameer_john():\n",
    "    \"\"\"Enter the value of a,b,c\"\"\"\n",
    "    def __init__(self,a,b,c):\n",
    "       \n",
    "        self.a= a\n",
    "        self.b=b\n",
    "        self.c=c\n",
    "    def test(self,a,b,c):\n",
    "        \"\"\"Enter value a,b,c fro this test method\"\"\"\n",
    "        print('this is method of syed_ameer_john',\n",
    "              self.a,self.b,self.c)\n",
    "        print('this is method of syed_ameer_john',a,b,c)"
   ]
  },
  {
   "cell_type": "code",
   "execution_count": 28,
   "id": "a1b021ca-85cb-4421-8efe-4738c34d6a6b",
   "metadata": {},
   "outputs": [],
   "source": [
    "obj = syed_ameer_john(1,2,3)"
   ]
  },
  {
   "cell_type": "code",
   "execution_count": 29,
   "id": "06a5b99a-fb7c-4f78-811c-57cd13931258",
   "metadata": {},
   "outputs": [
    {
     "name": "stdout",
     "output_type": "stream",
     "text": [
      "this is method of syed_ameer_john 1 2 3\n",
      "this is method of syed_ameer_john 4 5 6\n"
     ]
    }
   ],
   "source": [
    "obj.test(4,5,6)"
   ]
  },
  {
   "cell_type": "code",
   "execution_count": 38,
   "id": "ee9f4783-0c8a-485e-a8ea-b1fe681ef40f",
   "metadata": {},
   "outputs": [],
   "source": [
    "# Creating Parent child Relation\n",
    "class syed():\n",
    "    \"\"\"this is a Parent class\"\"\"\n",
    "    def __init__(self,a):\n",
    "        self.a = a\n",
    "    def test(self):\n",
    "        print('This is the Parent Class method test',self.a)\n",
    "        \n",
    "class ameer(syed):# inheriting the syed (parent) class here\n",
    "    \"\"\"this is the child1 class\"\"\"\n",
    "    def __init__(self,a,b):\n",
    "        self.b = a\n",
    "        syed.__init__(self,b)\n",
    "    def test1(self):\n",
    "        print(\"this is the child 1 class\")"
   ]
  },
  {
   "cell_type": "code",
   "execution_count": 39,
   "id": "0a019fe5-3843-43f7-b9d2-8cb47505bc80",
   "metadata": {},
   "outputs": [],
   "source": [
    "obj = ameer(2,3)"
   ]
  },
  {
   "cell_type": "code",
   "execution_count": 40,
   "id": "567152ba-c834-4d85-bc6f-673d847457d7",
   "metadata": {},
   "outputs": [
    {
     "name": "stdout",
     "output_type": "stream",
     "text": [
      "This is the Parent Class method test 3\n"
     ]
    }
   ],
   "source": [
    "obj.test()"
   ]
  },
  {
   "cell_type": "code",
   "execution_count": 41,
   "id": "12a35763-1916-47ad-bf85-58efed0f52d8",
   "metadata": {},
   "outputs": [],
   "source": [
    "#create a file class from reading data from repective file with a method name read and write"
   ]
  },
  {
   "cell_type": "code",
   "execution_count": 21,
   "id": "654cd07e-9703-4c73-973b-dbe61881443a",
   "metadata": {},
   "outputs": [],
   "source": [
    "#create a file class from reading data from repective file with a method name read and write\n",
    "# parent Class\n",
    "import logging\n",
    "logging.basicConfig(filename='read_write.log',level=logging.INFO,format='%(levelname)s %(asctime)s %(message)s ')\n",
    "\n",
    "class read_write():\n",
    "    \"\"\"Enter or pass  the File Name\"\"\"\n",
    "    def __init__(self,filename):\n",
    "        self.filename = filename\n",
    "        \n",
    "    def read(self):\n",
    "        f = open(f'{ self.filename}.txt','r')\n",
    "        return f.read()\n",
    "    def write(self,write):\n",
    "        f = open(f'{ self.filename}.txt','w+')\n",
    "        f.write(str(write))\n",
    "        print('The Data is writen')\n",
    "        f.seek(0)\n",
    "        return f.read()\n",
    "    \n",
    "class read_write_child(read_write):\n",
    "    \"\"\"Pass file name\"\"\"\n",
    "    def __init__( self,filename):\n",
    "        self.filename = filename\n",
    "        read_write.__init__(self,filename)\n",
    "        try:\n",
    "            f= open(f'{str(self.filename)}.txt','r') \n",
    "        except Exception as e:\n",
    "            print('File not found file is creating..')\n",
    "            f = open(f'{str(self.filename)}.txt','w')\n",
    "            print('File is created..')\n",
    "            f.close()\n",
    "             \n",
    "    "
   ]
  },
  {
   "cell_type": "code",
   "execution_count": 22,
   "id": "eb97b615-b49d-489f-8f5f-be0599a8c455",
   "metadata": {},
   "outputs": [],
   "source": [
    "obj = read_write_child('syed1')\n",
    "obj.read()"
   ]
  },
  {
   "cell_type": "code",
   "execution_count": 24,
   "id": "d88ba7ab-0131-40bc-bee1-85293b8f2b57",
   "metadata": {},
   "outputs": [
    {
     "name": "stdout",
     "output_type": "stream",
     "text": [
      "The Data is writen\n"
     ]
    },
    {
     "data": {
      "text/plain": [
       "'enter my name'"
      ]
     },
     "execution_count": 24,
     "metadata": {},
     "output_type": "execute_result"
    }
   ],
   "source": [
    "obj.write('enter my name')"
   ]
  },
  {
   "cell_type": "code",
   "execution_count": null,
   "id": "7d585d13-236a-4843-ad57-63038becdf33",
   "metadata": {},
   "outputs": [],
   "source": [
    "## OOPs Concept of public private protected"
   ]
  },
  {
   "cell_type": "code",
   "execution_count": 1,
   "id": "c22705b1-4025-4f05-af0b-2011f95c368f",
   "metadata": {},
   "outputs": [],
   "source": [
    "class syed:\n",
    "    def __init__(self,a,b,c):\n",
    "        self.a = a\n",
    "        self._b = b\n",
    "        self.__c = c\n",
    "    def test(self):\n",
    "        print('This is parent class test',self.a,self._b,self.__c)"
   ]
  },
  {
   "cell_type": "code",
   "execution_count": 2,
   "id": "5ec4f71f-9b6b-400d-a782-42b1709da307",
   "metadata": {},
   "outputs": [],
   "source": [
    "obj = syed ( 1,2,3)"
   ]
  },
  {
   "cell_type": "code",
   "execution_count": 3,
   "id": "62aac056-1b08-4dab-b936-96717224d481",
   "metadata": {},
   "outputs": [
    {
     "name": "stdout",
     "output_type": "stream",
     "text": [
      "This is parent class test 1 2 3\n"
     ]
    }
   ],
   "source": [
    "obj.test()"
   ]
  },
  {
   "cell_type": "code",
   "execution_count": 4,
   "id": "2e0d8f9d-93f0-42f6-a323-a4581615101f",
   "metadata": {},
   "outputs": [
    {
     "data": {
      "text/plain": [
       "2"
      ]
     },
     "execution_count": 4,
     "metadata": {},
     "output_type": "execute_result"
    }
   ],
   "source": [
    "obj._b"
   ]
  },
  {
   "cell_type": "code",
   "execution_count": 6,
   "id": "71a51e68-a84e-4b86-a121-a317dc720531",
   "metadata": {},
   "outputs": [
    {
     "data": {
      "text/plain": [
       "3"
      ]
     },
     "execution_count": 6,
     "metadata": {},
     "output_type": "execute_result"
    }
   ],
   "source": [
    "obj._syed__c"
   ]
  },
  {
   "cell_type": "code",
   "execution_count": 15,
   "id": "b32af182-204c-4f4c-b41b-e4923979055a",
   "metadata": {},
   "outputs": [],
   "source": [
    "class syed1():\n",
    "    def __init__(self,a,b,c):\n",
    "        self.a = a\n",
    "        self._b = b\n",
    "        self.__c = c\n",
    "        \n",
    "    def test1(self):\n",
    "        print('This is main class test1',self.a,self._b,self.__c)\n",
    "class syed2 (syed1):\n",
    "    def test2(self):\n",
    "        print(\"this is my child class \",self.a,self._b,self._syed1__c)"
   ]
  },
  {
   "cell_type": "code",
   "execution_count": 16,
   "id": "3adc4591-24da-4b42-8ca0-95a794b8593f",
   "metadata": {},
   "outputs": [],
   "source": [
    "obj = syed2(1,2,3)"
   ]
  },
  {
   "cell_type": "code",
   "execution_count": 17,
   "id": "eaf5599f-ade5-41a4-964b-e81950fb29d8",
   "metadata": {},
   "outputs": [
    {
     "name": "stdout",
     "output_type": "stream",
     "text": [
      "This is main class test1 1 2 3\n"
     ]
    }
   ],
   "source": [
    "obj.test1()"
   ]
  },
  {
   "cell_type": "code",
   "execution_count": 18,
   "id": "59ef8726-68c7-4817-beec-632cd70b48af",
   "metadata": {},
   "outputs": [
    {
     "name": "stdout",
     "output_type": "stream",
     "text": [
      "this is my child class  1 2 3\n"
     ]
    }
   ],
   "source": [
    "obj.test2()"
   ]
  },
  {
   "cell_type": "code",
   "execution_count": null,
   "id": "9e05919d-87f5-42ed-83e5-eba79de60d81",
   "metadata": {},
   "outputs": [],
   "source": []
  },
  {
   "cell_type": "code",
   "execution_count": 54,
   "id": "8626bc0c-470c-466e-859c-2093b083329f",
   "metadata": {},
   "outputs": [],
   "source": [
    "class john:\n",
    "    def __init__(self,a,b,c):\n",
    "        self.a = a\n",
    "        self._b = b\n",
    "        self.__c = c\n",
    "    def test(self):\n",
    "        print('it is a patent class test method',self.a,self._b,self.__c)\n",
    "        \n",
    "        \n",
    "class ammer(john):\n",
    "    def __init__(self,a,b,c,d,e,f):\n",
    "        self.a =d\n",
    "        self.b =e\n",
    "        self.c =f\n",
    "        john.__init__(self,a,b,c)\n",
    "    def test1(self):\n",
    "        print('this is child class', self.a,self._b,self._john__c)"
   ]
  },
  {
   "cell_type": "code",
   "execution_count": 55,
   "id": "d90138a2-be62-4d87-adb0-878b710d0853",
   "metadata": {},
   "outputs": [],
   "source": [
    "obj = john(1,2,4)"
   ]
  },
  {
   "cell_type": "code",
   "execution_count": 56,
   "id": "3f2894c3-9c89-4e40-be01-bc783087dcf8",
   "metadata": {},
   "outputs": [
    {
     "name": "stdout",
     "output_type": "stream",
     "text": [
      "it is a patent class test method 1 2 4\n"
     ]
    }
   ],
   "source": [
    "obj.test()"
   ]
  },
  {
   "cell_type": "code",
   "execution_count": 57,
   "id": "30cb9967-1c33-4750-805c-738c4d551f5a",
   "metadata": {},
   "outputs": [],
   "source": [
    "obj = ammer(1,2,3,4,5,6)"
   ]
  },
  {
   "cell_type": "code",
   "execution_count": 58,
   "id": "9b34ba86-a092-4032-a885-a3401f5cd696",
   "metadata": {},
   "outputs": [
    {
     "name": "stdout",
     "output_type": "stream",
     "text": [
      "this is child class 1 2 3\n"
     ]
    }
   ],
   "source": [
    "obj.test1()"
   ]
  },
  {
   "cell_type": "code",
   "execution_count": 2,
   "id": "78cafedc-9d10-4052-b875-43af38995c82",
   "metadata": {},
   "outputs": [],
   "source": [
    "class syed:\n",
    "    def __init__(self,a,b,c):\n",
    "        self.a= a\n",
    "        self.b = b\n",
    "        self.c = c\n",
    "    def test(self):\n",
    "        print('This is Parent class test function',self.a,self.b,self.c)\n",
    "        \n",
    "class syed1(syed):\n",
    "    def test1(self):\n",
    "        print('it is second class test1 meth')\n",
    "\n",
    "class syed2(syed1):\n",
    "    def test2(self):\n",
    "        print('this is third class test2 meth')"
   ]
  },
  {
   "cell_type": "code",
   "execution_count": 4,
   "id": "e878a585-080f-4a03-b6e0-1f0e573d9d31",
   "metadata": {},
   "outputs": [],
   "source": [
    "obj = syed2(1,2,3)"
   ]
  },
  {
   "cell_type": "code",
   "execution_count": 5,
   "id": "bb064516-01ae-4b28-8b43-16369d581050",
   "metadata": {},
   "outputs": [
    {
     "name": "stdout",
     "output_type": "stream",
     "text": [
      "This is Parent class test function 1 2 3\n"
     ]
    }
   ],
   "source": [
    "obj.test()"
   ]
  },
  {
   "cell_type": "code",
   "execution_count": 6,
   "id": "42cdea26-8d40-4ec1-8726-bc567fc38e8f",
   "metadata": {},
   "outputs": [
    {
     "name": "stdout",
     "output_type": "stream",
     "text": [
      "it is second class test1 meth\n"
     ]
    }
   ],
   "source": [
    "obj.test1()"
   ]
  },
  {
   "cell_type": "code",
   "execution_count": 35,
   "id": "ef3f01a5-e023-43e3-8e49-9dd0b12f0649",
   "metadata": {},
   "outputs": [],
   "source": [
    "class syed:\n",
    "    def __init__(self,a,b,c):\n",
    "        self.a= a\n",
    "        self.b = b\n",
    "        self.c = c\n",
    "    def test(self):\n",
    "        print('This is Parent class test function',self.a,self.b,self.c)\n",
    "        \n",
    "class syed1(syed):\n",
    "    def __init__(self,*args):\n",
    "        self.args = args\n",
    "    def test1(self):\n",
    "        print('it is second class test1 meth',self.args)\n",
    "\n",
    "class syed2(syed1):\n",
    "    def __init__(self,a,b,c,d,e,*args):\n",
    "        self.d =d\n",
    "        self.e =e\n",
    "        syed.__init__(self,a,b,c)\n",
    "        syed1.__init__(self,*args)\n",
    "    def test2(self):\n",
    "    \n",
    "        print('this is third class test2 meth')"
   ]
  },
  {
   "cell_type": "code",
   "execution_count": 36,
   "id": "25af56b8-3d33-4bb5-a4d3-f4089f15ded4",
   "metadata": {},
   "outputs": [],
   "source": [
    "obj = syed2(1,2,3,4,5,6,7,8,9)"
   ]
  },
  {
   "cell_type": "code",
   "execution_count": null,
   "id": "b335d3c4-5370-40c4-954f-1b6493c6939d",
   "metadata": {},
   "outputs": [],
   "source": [
    "obj."
   ]
  },
  {
   "cell_type": "code",
   "execution_count": 20,
   "id": "bcafef44-b200-421e-8d72-de6cda46c04f",
   "metadata": {},
   "outputs": [
    {
     "data": {
      "text/plain": [
       "(4, 5, 6, 7, 8, 9)"
      ]
     },
     "execution_count": 20,
     "metadata": {},
     "output_type": "execute_result"
    }
   ],
   "source": [
    "obj.args"
   ]
  },
  {
   "cell_type": "code",
   "execution_count": 21,
   "id": "aaf20b4d-90cd-436a-a47f-ea310f16290f",
   "metadata": {},
   "outputs": [
    {
     "name": "stdout",
     "output_type": "stream",
     "text": [
      "This is Parent class test function 1 2 3\n"
     ]
    }
   ],
   "source": [
    "obj.test()"
   ]
  },
  {
   "cell_type": "code",
   "execution_count": 22,
   "id": "ceeb1d7a-41b4-46ff-acae-0568ccf51d3a",
   "metadata": {},
   "outputs": [
    {
     "name": "stdout",
     "output_type": "stream",
     "text": [
      "it is second class test1 meth (4, 5, 6, 7, 8, 9)\n"
     ]
    }
   ],
   "source": [
    "obj.test1()"
   ]
  },
  {
   "cell_type": "code",
   "execution_count": 23,
   "id": "3c24f053-2f0e-424e-be70-9bba20a132e3",
   "metadata": {},
   "outputs": [
    {
     "name": "stdout",
     "output_type": "stream",
     "text": [
      "this is third class test2 meth\n"
     ]
    }
   ],
   "source": [
    "obj.test2()"
   ]
  },
  {
   "cell_type": "code",
   "execution_count": 27,
   "id": "9abe6869-648f-4419-887c-af3559f5423c",
   "metadata": {},
   "outputs": [],
   "source": [
    "syed = syed1(1,2,4)"
   ]
  },
  {
   "cell_type": "code",
   "execution_count": 28,
   "id": "1a10b9a0-d968-4484-9ab2-0c2cff89a7f0",
   "metadata": {},
   "outputs": [
    {
     "data": {
      "text/plain": [
       "(1, 2, 4)"
      ]
     },
     "execution_count": 28,
     "metadata": {},
     "output_type": "execute_result"
    }
   ],
   "source": [
    "syed.args"
   ]
  },
  {
   "cell_type": "code",
   "execution_count": 29,
   "id": "e3302f04-826d-45c9-aa5c-35e8df4abc5a",
   "metadata": {},
   "outputs": [
    {
     "ename": "AttributeError",
     "evalue": "'syed1' object has no attribute 'a'",
     "output_type": "error",
     "traceback": [
      "\u001b[0;31m---------------------------------------------------------------------------\u001b[0m",
      "\u001b[0;31mAttributeError\u001b[0m                            Traceback (most recent call last)",
      "Cell \u001b[0;32mIn [29], line 1\u001b[0m\n\u001b[0;32m----> 1\u001b[0m \u001b[43msyed\u001b[49m\u001b[38;5;241;43m.\u001b[39;49m\u001b[43mtest\u001b[49m\u001b[43m(\u001b[49m\u001b[43m)\u001b[49m\n",
      "Cell \u001b[0;32mIn [24], line 7\u001b[0m, in \u001b[0;36msyed.test\u001b[0;34m(self)\u001b[0m\n\u001b[1;32m      6\u001b[0m \u001b[38;5;28;01mdef\u001b[39;00m \u001b[38;5;21mtest\u001b[39m(\u001b[38;5;28mself\u001b[39m):\n\u001b[0;32m----> 7\u001b[0m     \u001b[38;5;28mprint\u001b[39m(\u001b[38;5;124m'\u001b[39m\u001b[38;5;124mThis is Parent class test function\u001b[39m\u001b[38;5;124m'\u001b[39m,\u001b[38;5;28;43mself\u001b[39;49m\u001b[38;5;241;43m.\u001b[39;49m\u001b[43ma\u001b[49m,\u001b[38;5;28mself\u001b[39m\u001b[38;5;241m.\u001b[39mb,\u001b[38;5;28mself\u001b[39m\u001b[38;5;241m.\u001b[39mc)\n",
      "\u001b[0;31mAttributeError\u001b[0m: 'syed1' object has no attribute 'a'"
     ]
    }
   ],
   "source": [
    "syed.test()"
   ]
  },
  {
   "cell_type": "code",
   "execution_count": 31,
   "id": "42d7710d-3f04-40a1-a107-b69c8bc1ff0b",
   "metadata": {},
   "outputs": [],
   "source": [
    "class syed:\n",
    "    def __init__(self,a,b,c):\n",
    "        self.a= a\n",
    "        self.b = b\n",
    "        self.c = c\n",
    "    def test(self):\n",
    "        print('This is Parent class test function',self.a,self.b,self.c)\n",
    "        \n",
    "class syed1():\n",
    "    def __init__(self,*args):\n",
    "        self.args = args\n",
    "    def test1(self):\n",
    "        print('it is second class test1 meth',self.args)\n",
    "\n",
    "class syed2(syed,syed1):\n",
    "    def __init__(self,a,b,c,d,e,*args):\n",
    "        self.d =d\n",
    "        self.e =e\n",
    "        syed.__init__(self,a,b,c)\n",
    "        syed1.__init__(self,*args)\n",
    "    def test2(self):\n",
    "    \n",
    "        print('this is third class test2 meth')"
   ]
  },
  {
   "cell_type": "code",
   "execution_count": 32,
   "id": "c3c5de12-35b8-4cc0-8888-dfebcc69c95d",
   "metadata": {},
   "outputs": [],
   "source": [
    "obj= syed2(1,2,3,4,5,6)"
   ]
  },
  {
   "cell_type": "code",
   "execution_count": 33,
   "id": "cefb8324-d277-49c9-85a3-97ed221515b0",
   "metadata": {},
   "outputs": [
    {
     "data": {
      "text/plain": [
       "(6,)"
      ]
     },
     "execution_count": 33,
     "metadata": {},
     "output_type": "execute_result"
    }
   ],
   "source": [
    "obj.args"
   ]
  },
  {
   "cell_type": "code",
   "execution_count": 34,
   "id": "149233cc-8da3-49c8-ad19-db57c74bfc95",
   "metadata": {},
   "outputs": [
    {
     "name": "stdout",
     "output_type": "stream",
     "text": [
      "This is Parent class test function 1 2 3\n"
     ]
    }
   ],
   "source": [
    "obj.test()"
   ]
  },
  {
   "cell_type": "code",
   "execution_count": null,
   "id": "479856cf-3958-4940-bb3b-53a72f7ad161",
   "metadata": {},
   "outputs": [],
   "source": []
  }
 ],
 "metadata": {
  "kernelspec": {
   "display_name": "Python 3 (ipykernel)",
   "language": "python",
   "name": "python3"
  },
  "language_info": {
   "codemirror_mode": {
    "name": "ipython",
    "version": 3
   },
   "file_extension": ".py",
   "mimetype": "text/x-python",
   "name": "python",
   "nbconvert_exporter": "python",
   "pygments_lexer": "ipython3",
   "version": "3.9.12"
  }
 },
 "nbformat": 4,
 "nbformat_minor": 5
}
