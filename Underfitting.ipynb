{
 "cells": [
  {
   "cell_type": "code",
   "execution_count": 2,
   "id": "b1657f7d-e031-4311-a71c-67ee8fda6c34",
   "metadata": {},
   "outputs": [
    {
     "name": "stdout",
     "output_type": "stream",
     "text": [
      "Train Score:  0.7508856358979673\n",
      "Test Score:  0.6687594935356331\n"
     ]
    }
   ],
   "source": [
    "import numpy as np\n",
    "from sklearn.datasets import load_boston\n",
    "import matplotlib.pyplot as plt\n",
    "import warnings\n",
    "warnings.filterwarnings(\"ignore\")\n",
    "\n",
    "boston = load_boston()\n",
    "\n",
    "\"\"\"Next, we’ll split the dataset into training and testing sets\"\"\"\n",
    "\n",
    "from sklearn.model_selection import train_test_split\n",
    "\n",
    "X_train, X_test, y_train, y_test = train_test_split(boston.data, boston.target, \n",
    "                                                    test_size=0.2, random_state=42)\n",
    "\n",
    "\"\"\"Now, we’ll create a linear regression model and fit it to the training data.\"\"\"\n",
    "\n",
    "from sklearn.linear_model import LinearRegression\n",
    "\n",
    "model = LinearRegression()\n",
    "model.fit(X_train, y_train)\n",
    "\n",
    "\"\"\"Finally, we’ll evaluate the model’s performance on the training and testing data\"\"\"\n",
    "\n",
    "from sklearn.metrics import r2_score\n",
    "\n",
    "y_train_pred = model.predict(X_train)\n",
    "y_test_pred = model.predict(X_test)\n",
    "\n",
    "train_score = r2_score(y_train, y_train_pred)\n",
    "test_score = r2_score(y_test, y_test_pred)\n",
    "\n",
    "print(\"Train Score: \", train_score)\n",
    "print(\"Test Score: \", test_score)"
   ]
  },
  {
   "cell_type": "code",
   "execution_count": 3,
   "id": "18848e0e-7522-47c7-b14d-138691e264af",
   "metadata": {},
   "outputs": [
    {
     "data": {
      "text/plain": [
       "'If the model has a low accuracy on the testing data, this could be a sign of underfitting. To prevent underfitting, you can use a more complex model or techniques such as regularization.'"
      ]
     },
     "execution_count": 3,
     "metadata": {},
     "output_type": "execute_result"
    }
   ],
   "source": [
    "\"\"\"If the model has a low accuracy on the testing data, this could be a sign of underfitting. To prevent underfitting, you can use a more complex model or techniques such as regularization.\"\"\""
   ]
  },
  {
   "cell_type": "code",
   "execution_count": null,
   "id": "75bb8862-6a79-4ea3-8509-87e9121c135a",
   "metadata": {},
   "outputs": [],
   "source": []
  }
 ],
 "metadata": {
  "kernelspec": {
   "display_name": "Python 3 (ipykernel)",
   "language": "python",
   "name": "python3"
  },
  "language_info": {
   "codemirror_mode": {
    "name": "ipython",
    "version": 3
   },
   "file_extension": ".py",
   "mimetype": "text/x-python",
   "name": "python",
   "nbconvert_exporter": "python",
   "pygments_lexer": "ipython3",
   "version": "3.10.6"
  }
 },
 "nbformat": 4,
 "nbformat_minor": 5
}
