{
 "cells": [
  {
   "cell_type": "code",
   "execution_count": 10,
   "id": "3163a232-43c5-4794-9b64-0d1b71db510d",
   "metadata": {},
   "outputs": [
    {
     "name": "stdout",
     "output_type": "stream",
     "text": [
      "0.5189161754366874\n"
     ]
    },
    {
     "data": {
      "text/plain": [
       "0.5993373979742223"
      ]
     },
     "execution_count": 10,
     "metadata": {},
     "output_type": "execute_result"
    }
   ],
   "source": [
    "# Linear regression applied\n",
    "from sklearn.linear_model import LinearRegression\n",
    "\n",
    "from sklearn.datasets import fetch_california_housing\n",
    "\n",
    "from sklearn.model_selection import train_test_split\n",
    "import numpy as np\n",
    "import warnings\n",
    "warnings.filterwarnings('ignore')\n",
    "from sklearn.metrics import r2_score\n",
    "\n",
    "#Next, we load the Boston housing dataset and split it into training and test sets:\n",
    "X, y =fetch_california_housing(return_X_y=True)\n",
    "X_train, X_test, y_train, y_test = train_test_split(X, y, test_size=0.2)\n",
    "\n",
    "\n",
    "\n",
    "\n",
    "model = LinearRegression(fit_intercept=True)\n",
    "model.fit(X_train, y_train)\n",
    "\n",
    "\n",
    "#Finally, we evaluate the model on the test set:\n",
    "\n",
    "\n",
    "y_pred = model.predict(X_test)\n",
    "print(np.mean((y_test - y_pred) ** 2))\n",
    "r2_score(y_test, y_pred)"
   ]
  },
  {
   "cell_type": "code",
   "execution_count": 17,
   "id": "3194db3b-5632-4287-a85e-09634233fe41",
   "metadata": {},
   "outputs": [
    {
     "name": "stdout",
     "output_type": "stream",
     "text": [
      "0.54421889377344\n"
     ]
    },
    {
     "data": {
      "text/plain": [
       "0.5956894690464467"
      ]
     },
     "execution_count": 17,
     "metadata": {},
     "output_type": "execute_result"
    }
   ],
   "source": [
    "# Ridge regularization applied\n",
    "from sklearn.linear_model import Ridge\n",
    "from sklearn.datasets import fetch_california_housing\n",
    "from sklearn.model_selection import train_test_split\n",
    "import numpy as np\n",
    "import warnings\n",
    "warnings.filterwarnings('ignore')\n",
    "\n",
    "\n",
    "\n",
    "X, y =fetch_california_housing(return_X_y=True)\n",
    "X_train, X_test, y_train, y_test = train_test_split(X, y, test_size=0.2)\n",
    "\n",
    "\n",
    "#Then, we train the linear regression model with an L2 penalty:\n",
    "\n",
    "\n",
    "model = Ridge(fit_intercept=True, alpha=0.1)\n",
    "model.fit(X_train, y_train)\n",
    "\n",
    "\n",
    "#Finally, we evaluate the model on the test set:\n",
    "\n",
    "\n",
    "y_pred = model.predict(X_test)\n",
    "print(np.mean((y_test - y_pred) ** 2))\n",
    "r2_score(y_test, y_pred)"
   ]
  },
  {
   "cell_type": "code",
   "execution_count": null,
   "id": "3f9e4d71-7ca5-4487-ab4d-3761093364b1",
   "metadata": {},
   "outputs": [],
   "source": []
  },
  {
   "cell_type": "code",
   "execution_count": null,
   "id": "a3234d35-29a3-4129-9177-050c70bd148a",
   "metadata": {},
   "outputs": [],
   "source": []
  }
 ],
 "metadata": {
  "kernelspec": {
   "display_name": "Python 3 (ipykernel)",
   "language": "python",
   "name": "python3"
  },
  "language_info": {
   "codemirror_mode": {
    "name": "ipython",
    "version": 3
   },
   "file_extension": ".py",
   "mimetype": "text/x-python",
   "name": "python",
   "nbconvert_exporter": "python",
   "pygments_lexer": "ipython3",
   "version": "3.10.8"
  }
 },
 "nbformat": 4,
 "nbformat_minor": 5
}
